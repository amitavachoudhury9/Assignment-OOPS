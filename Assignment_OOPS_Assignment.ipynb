{
  "nbformat": 4,
  "nbformat_minor": 0,
  "metadata": {
    "colab": {
      "provenance": []
    },
    "kernelspec": {
      "name": "python3",
      "display_name": "Python 3"
    },
    "language_info": {
      "name": "python"
    }
  },
  "cells": [
    {
      "cell_type": "markdown",
      "source": [
        "OOPS THEORITICAL QUESTION"
      ],
      "metadata": {
        "id": "GpK7vYz1JkLO"
      }
    },
    {
      "cell_type": "markdown",
      "source": [
        "1. What is Object-Oriented Programming (OOP)?\n",
        "  - Object-Oriented Programming (OOP) is a programming paradigm that uses \"objects\" to model real-world entities. These objects encapsulate data and the methods that operate on that data. The four main principles of OOP are encapsulation, abstraction, inheritance, and polymorphism.\n",
        "\n",
        "2. What is a class in OOP?\n",
        "  - A class in OOP is a blueprint for creating objects. It defines attributes (data) and methods (functions) that the created objects (instances) will have. For example:"
      ],
      "metadata": {
        "id": "5hsfEKSzKDhN"
      }
    },
    {
      "cell_type": "code",
      "source": [
        "  class Dog:\n",
        "    def __init__(self, name):\n",
        "        self.name = name\n",
        "    def bark(self):\n",
        "        print(\"Woof!\")"
      ],
      "metadata": {
        "id": "VpsqDxKPJ2vs"
      },
      "execution_count": null,
      "outputs": []
    },
    {
      "cell_type": "markdown",
      "source": [
        "3. What is an object in OOP?\n",
        "  - An object is an instance of a class. It represents a specific implementation with actual values for the attributes defined in the class.\n",
        "\n",
        "4. What is the difference between abstraction and encapsulation?\n",
        "  \n",
        "   - Abstraction hides complex implementation details and shows only the essential features.\n",
        "   - Encapsulation binds data and methods into a single unit and restricts access to some of the object’s components.\n",
        "\n",
        "5. What are dunder methods in Python?\n",
        "   - Dunder (double underscore) methods are special methods in Python like __init__, __str__, and __len__, used to define behaviors for objects like construction, printing, and length.\n",
        "\n",
        "6. Explain the concept of inheritance in OOP.\n",
        "  - Inheritance allows a class to inherit attributes and methods from another class. This helps reuse code and establish relationships between classes.\n",
        "  "
      ],
      "metadata": {
        "id": "CvrKhemJKqFe"
      }
    },
    {
      "cell_type": "code",
      "source": [
        "class Animal:\n",
        "    def speak(self):\n",
        "        print(\"Animal speaks\")\n",
        "\n",
        "class Dog(Animal):\n",
        "    def speak(self):\n",
        "        print(\"Bark!\")"
      ],
      "metadata": {
        "id": "hajdiaDaLjTN"
      },
      "execution_count": null,
      "outputs": []
    },
    {
      "cell_type": "markdown",
      "source": [
        "7. What is polymorphism in OOP?\n",
        "\n",
        "  - Polymorphism allows objects of different classes to be treated as instances of the same class through a common interface.\n",
        "  "
      ],
      "metadata": {
        "id": "5x_iCVs9Lr9-"
      }
    },
    {
      "cell_type": "code",
      "source": [
        "class Bird:\n",
        "    def fly(self):\n",
        "        print(\"Bird flies\")\n",
        "\n",
        "class Sparrow(Bird):\n",
        "    def fly(self):\n",
        "        print(\"Sparrow flies\")"
      ],
      "metadata": {
        "id": "HqVhrahHL2GZ"
      },
      "execution_count": null,
      "outputs": []
    },
    {
      "cell_type": "markdown",
      "source": [
        "8. How is encapsulation achieved in Python?\n",
        "\n",
        "  - By using private variables (prefixing with _ or __) and providing getter and setter methods to control access."
      ],
      "metadata": {
        "id": "jFpDwWs-L71X"
      }
    },
    {
      "cell_type": "code",
      "source": [
        "class Bank:\n",
        "    def __init__(self):\n",
        "        self.__balance = 0\n",
        "    def deposit(self, amount):\n",
        "        self.__balance += amount"
      ],
      "metadata": {
        "id": "2q7QFPZiMElX"
      },
      "execution_count": null,
      "outputs": []
    },
    {
      "cell_type": "markdown",
      "source": [
        "9. What is a constructor in Python?\n",
        "\n",
        "  - The __init__ method in a class is a constructor that initializes object attributes when an object is created.\n",
        "\n",
        "10. What are class and static methods in Python?\n",
        "\n",
        "   - @classmethod: Takes cls as the first argument and can modify class state.\n",
        "   - @staticmethod: Does not take self or cls, behaves like a regular function within a class.\n",
        "\n",
        "11. What is method overloading in Python?\n",
        "\n",
        "  - Python does not support traditional method overloading. Instead, we use default arguments or *args/**kwargs.\n",
        "\n",
        "12. What is method overriding in OOP?\n",
        "\n",
        "  - Method overriding occurs when a subclass provides a specific implementation of a method already defined in its parent class.\n",
        "\n",
        "13. What is a property decorator in Python?\n",
        "\n",
        "  - @property is used to define a method as a property, allowing method access like an attribute.\n",
        "\n",
        "14. Why is polymorphism important in OOP?\n",
        "\n",
        "  - Polymorphism increases flexibility and reusability of code, allowing different classes to be treated uniformly.\n",
        "\n",
        "15. What is an abstract class in Python?\n",
        "\n",
        "  - An abstract class cannot be instantiated and may have abstract methods. It is defined using the abc module.\n",
        "\n",
        "16. What are the advantages of OOP?\n",
        "\n",
        "  - Reusability through inheritance\n",
        "\n",
        "  - Modularity via encapsulation\n",
        "\n",
        "  - Flexibility with polymorphism\n",
        "\n",
        "  - Maintainability\n",
        "\n",
        "17. What is the difference between a class variable and an instance variable?\n",
        "\n",
        "    1. Class Variable\n",
        "    - Shared across all instances of the class.\n",
        "\n",
        "    - Defined inside the class but outside any methods.\n",
        "\n",
        "    - Changing a class variable affects all instances (unless it's shadowed by an instance variable).\n"
      ],
      "metadata": {
        "id": "vhZiH7zxMGkl"
      }
    },
    {
      "cell_type": "code",
      "source": [
        "#EXAMPLE\n",
        "class Dog:\n",
        "    species = \"Canine\"  # class variable\n",
        "\n",
        "    def __init__(self, name):\n",
        "        self.name = name  # instance variable\n"
      ],
      "metadata": {
        "id": "5UrifVkVSMZF"
      },
      "execution_count": 9,
      "outputs": []
    },
    {
      "cell_type": "markdown",
      "source": [
        "        2. Instance Variable\n",
        "        \n",
        "        - Unique to each instance of the class.\n",
        "\n",
        "        - Usually defined using self inside the __init__ method (or other methods).\n",
        "\n",
        "        - Changing an instance variable only affects that specific instance."
      ],
      "metadata": {
        "id": "hxAYNxflRMR1"
      }
    },
    {
      "cell_type": "code",
      "source": [
        "#EXAMPLE\n",
        "dog1 = Dog(\"Fido\")\n",
        "dog2 = Dog(\"Buddy\")\n",
        "\n",
        "dog1.name = \"Max\"  # only changes dog1's name\n",
        "Dog.species = \"Doggo\"  # changes species for all instances"
      ],
      "metadata": {
        "id": "rEIyM6p6SuTV"
      },
      "execution_count": 10,
      "outputs": []
    },
    {
      "cell_type": "markdown",
      "source": [
        "18. What is multiple inheritance in Python?\n",
        "\n",
        "  - Multiple inheritance in Python means a class can inherit attributes and methods from more than one parent class.\n",
        "  "
      ],
      "metadata": {
        "id": "-tCOJShJS1Xw"
      }
    },
    {
      "cell_type": "code",
      "source": [
        "class A:\n",
        "    def speak(self):\n",
        "        print(\"A speaks\")\n",
        "\n",
        "class B:\n",
        "    def talk(self):\n",
        "        print(\"B talks\")\n",
        "\n",
        "class C(A, B):  # Multiple inheritance\n",
        "    pass\n",
        "\n",
        "obj = C()\n",
        "obj.speak()  # From class A\n",
        "obj.talk()   # From class B"
      ],
      "metadata": {
        "colab": {
          "base_uri": "https://localhost:8080/"
        },
        "id": "fmtX8h4GSyOF",
        "outputId": "a2d806e2-9c18-4bda-e2cd-13eeadcf76c9"
      },
      "execution_count": 11,
      "outputs": [
        {
          "output_type": "stream",
          "name": "stdout",
          "text": [
            "A speaks\n",
            "B talks\n"
          ]
        }
      ]
    },
    {
      "cell_type": "markdown",
      "source": [
        "Python uses the Method Resolution Order (MRO) to decide which method to use when there’s overlap."
      ],
      "metadata": {
        "id": "XMVB-RQqTCYd"
      }
    },
    {
      "cell_type": "markdown",
      "source": [
        "19. Explain the purpose of ″_ str _ ′ and ′_ repr _′ ′ methods in Python.\n",
        "\n",
        "  - The __str__ and __repr__ methods in Python are special methods used to define how an object is represented as a string.\n",
        "\n",
        "    🔹 __str__: User-Friendly String\n",
        "\n",
        "    - Called by str(object) and the print() function.\n",
        "\n",
        "    - Should return a readable, user-friendly string.\n",
        "\n",
        "    - Purpose: Representation for end users."
      ],
      "metadata": {
        "id": "SnDI6CuITRCM"
      }
    },
    {
      "cell_type": "code",
      "source": [
        "class Person:\n",
        "    def __init__(self, name):\n",
        "        self.name = name\n",
        "\n",
        "    def __str__(self):\n",
        "        return f\"Person named {self.name}\""
      ],
      "metadata": {
        "id": "69IalNsAT1mx"
      },
      "execution_count": 12,
      "outputs": []
    },
    {
      "cell_type": "markdown",
      "source": [
        "    🔹 __repr__: Developer-Friendly String\n",
        "\n",
        "    Called by repr(object) or when you type the object name in an interactive shell.\n",
        "\n",
        "    Should return a precise, unambiguous string—ideally valid Python code.\n",
        "\n",
        "    Purpose: Debugging and developer representation.\n",
        "\n"
      ],
      "metadata": {
        "id": "BQeB-B9lT_Kk"
      }
    },
    {
      "cell_type": "code",
      "source": [
        "def __repr__(self):\n",
        "        return f\"Person('{self.name}')\""
      ],
      "metadata": {
        "id": "uT93JAsVUIJE"
      },
      "execution_count": 13,
      "outputs": []
    },
    {
      "cell_type": "code",
      "source": [
        "#Example in Action:\n",
        "p = Person(\"Alice\")\n",
        "\n",
        "print(p)         # Calls __str__: Person named Alice\n",
        "print(repr(p))   # Calls __repr__: Person('Alice')"
      ],
      "metadata": {
        "colab": {
          "base_uri": "https://localhost:8080/"
        },
        "id": "CxEYKJvZUIqJ",
        "outputId": "db8acd75-e83b-4a5d-d1cb-abad6888710e"
      },
      "execution_count": 14,
      "outputs": [
        {
          "output_type": "stream",
          "name": "stdout",
          "text": [
            "Person named Alice\n",
            "<__main__.Person object at 0x7cc69fd2e450>\n"
          ]
        }
      ]
    },
    {
      "cell_type": "markdown",
      "source": [
        "20. What is the significance of the ‘super()’ function in Python.\n",
        "\n",
        "  - he super() function in Python is used to call methods from a parent or sibling class. It's especially important in inheritance, including multiple inheritance, to ensure proper method resolution and to avoid redundancy.\n",
        "\n",
        "  🔹 Key Uses of super():\n",
        "\n",
        "    - Access parent class methods without hardcoding the parent class name.\n",
        "\n",
        "    - Maintain the method resolution order (MRO) in complex inheritance structures.\n",
        "\n",
        "    - Avoid duplicate code and improve maintainability."
      ],
      "metadata": {
        "id": "LjtRa4NsUULl"
      }
    },
    {
      "cell_type": "code",
      "source": [
        "#EXAMPLE:\n",
        "class Parent:\n",
        "    def greet(self):\n",
        "        print(\"Hello from Parent\")\n",
        "\n",
        "class Child(Parent):\n",
        "    def greet(self):\n",
        "        super().greet()  # Calls Parent.greet()\n",
        "        print(\"Hello from Child\")\n",
        "\n",
        "c = Child()\n",
        "c.greet()"
      ],
      "metadata": {
        "colab": {
          "base_uri": "https://localhost:8080/"
        },
        "id": "YkPfgP3WUQA1",
        "outputId": "121ec057-c1ef-4659-c7c5-3de221078544"
      },
      "execution_count": 17,
      "outputs": [
        {
          "output_type": "stream",
          "name": "stdout",
          "text": [
            "Hello from Parent\n",
            "Hello from Child\n"
          ]
        }
      ]
    },
    {
      "cell_type": "markdown",
      "source": [
        "21. What is the significance of the _ del _ method in Python?\n",
        "\n",
        "  - The __del__ method in Python is a destructor—it is called when an object is about to be destroyed, typically when there are no more references to it.\n",
        "\n",
        "  🔹 Purpose of __del__:\n",
        "\n",
        "  - Used to perform cleanup actions like:\n",
        "\n",
        "    - Closing files\n",
        "\n",
        "    - Releasing network connections\n",
        "\n",
        "    - Deleting temporary resources\n",
        "\n",
        "  - It gives you a chance to define custom teardown behavior for your objects."
      ],
      "metadata": {
        "id": "GswDcs_NUt2e"
      }
    },
    {
      "cell_type": "code",
      "source": [
        "#Example:\n",
        "class FileHandler:\n",
        "    def __init__(self, filename):\n",
        "        self.file = open(filename, 'w')\n",
        "\n",
        "    def __del__(self):\n",
        "        print(\"Closing file\")\n",
        "        self.file.close()"
      ],
      "metadata": {
        "id": "3X8FJQUqUpKs"
      },
      "execution_count": 16,
      "outputs": []
    },
    {
      "cell_type": "markdown",
      "source": [
        "When the object is deleted (or the program ends), __del__ is automatically called, closing the file."
      ],
      "metadata": {
        "id": "To3ulTSbVOkk"
      }
    },
    {
      "cell_type": "markdown",
      "source": [
        "22. What is the difference between @staticmethod and @classmethod in Python?\n",
        "\n",
        "  - The difference between @staticmethod and @classmethod in Python lies in what they receive as the first argument and how they interact with the class.\n",
        "\n",
        "    🔹 @staticmethod\n",
        "\n",
        "    - Does not take self or cls as the first parameter.\n",
        "\n",
        "    - Behaves like a regular function, just lives inside the class for organization.\n",
        "\n",
        "    - Can't access or modify class or instance state."
      ],
      "metadata": {
        "id": "_F9Fi8UAVqxU"
      }
    },
    {
      "cell_type": "code",
      "source": [
        "class MyClass:\n",
        "    @staticmethod\n",
        "    def greet():\n",
        "        print(\"Hello!\")\n"
      ],
      "metadata": {
        "id": "81nirYMUVL1s"
      },
      "execution_count": 18,
      "outputs": []
    },
    {
      "cell_type": "markdown",
      "source": [
        "    🔹 @classmethod\n",
        "\n",
        "    - Takes cls (the class itself) as the first argument.\n",
        "\n",
        "    - Can access and modify class-level state.\n",
        "\n",
        "    - Often used for alternative constructors."
      ],
      "metadata": {
        "id": "njI3G-u2V7XU"
      }
    },
    {
      "cell_type": "code",
      "source": [
        "class MyClass:\n",
        "    count = 0\n",
        "\n",
        "    @classmethod\n",
        "    def increment(cls):\n",
        "        cls.count += 1"
      ],
      "metadata": {
        "id": "yXxJQaodV4oJ"
      },
      "execution_count": 19,
      "outputs": []
    },
    {
      "cell_type": "markdown",
      "source": [
        "23. How does polymorphism work in Python with inheritance?\n",
        "\n",
        "  - Objects of different classes can be treated as objects of a common base class, especially when they share the same method name, allowing the correct method to be called dynamically at runtime.\n",
        "\n",
        "    🔹 How it works:\n",
        "\n",
        "    - Python uses dynamic (runtime) method resolution.\n",
        "\n",
        "    - Even if a variable is typed as the base class, Python checks the actual object type to decide which method to run."
      ],
      "metadata": {
        "id": "mayhetrFWMoV"
      }
    },
    {
      "cell_type": "code",
      "source": [
        "#EXAMPLE\n",
        "class Animal:\n",
        "    def speak(self):\n",
        "        print(\"Animal speaks\")\n",
        "\n",
        "class Dog(Animal):\n",
        "    def speak(self):\n",
        "        print(\"Dog barks\")\n",
        "\n",
        "class Cat(Animal):\n",
        "    def speak(self):\n",
        "        print(\"Cat meows\")\n",
        "\n",
        "# Polymorphic behavior\n",
        "def make_sound(animal):\n",
        "    animal.speak()\n",
        "\n",
        "make_sound(Dog())\n",
        "make_sound(Cat())"
      ],
      "metadata": {
        "colab": {
          "base_uri": "https://localhost:8080/"
        },
        "id": "gD8gAB3DWHal",
        "outputId": "989ca135-7c2b-4b80-f59a-ca94bb75a8b7"
      },
      "execution_count": 20,
      "outputs": [
        {
          "output_type": "stream",
          "name": "stdout",
          "text": [
            "Dog barks\n",
            "Cat meows\n"
          ]
        }
      ]
    },
    {
      "cell_type": "markdown",
      "source": [
        "24. What is method chaining in Python OOP?\n",
        "\n",
        "  - Method chaining is a technique where multiple method calls are linked together in a single statement, by having each method return self.\n",
        "\n",
        "    🔹 How it Works:\n",
        "\n",
        "    - Each method performs some action and then returns the same object (self) so that the next method can be called on it."
      ],
      "metadata": {
        "id": "fD1O4H6vWgw8"
      }
    },
    {
      "cell_type": "code",
      "source": [
        "#EXAMPLE\n",
        "class TextBuilder:\n",
        "    def __init__(self):\n",
        "        self.text = \"\"\n",
        "\n",
        "    def add_hello(self):\n",
        "        self.text += \"Hello \"\n",
        "        return self\n",
        "\n",
        "    def add_world(self):\n",
        "        self.text += \"World!\"\n",
        "        return self\n",
        "\n",
        "    def show(self):\n",
        "        print(self.text)\n",
        "        return self\n",
        "\n",
        "# Method chaining in action\n",
        "TextBuilder().add_hello().add_world().show()"
      ],
      "metadata": {
        "colab": {
          "base_uri": "https://localhost:8080/"
        },
        "id": "pzKr0ggeWdgn",
        "outputId": "bb500625-a0bd-447a-c81d-037cbed77759"
      },
      "execution_count": 21,
      "outputs": [
        {
          "output_type": "stream",
          "name": "stdout",
          "text": [
            "Hello World!\n"
          ]
        },
        {
          "output_type": "execute_result",
          "data": {
            "text/plain": [
              "<__main__.TextBuilder at 0x7cc69fd6e900>"
            ]
          },
          "metadata": {},
          "execution_count": 21
        }
      ]
    },
    {
      "cell_type": "markdown",
      "source": [
        "25. What is the purpose of the __ call __ method in Python?\n",
        "\n",
        "   🔹 __call__ method in Python\n",
        "\n",
        "    The __call__ method lets an object behave like a function—meaning you can \"call\" an instance as if it were a function.\n",
        "\n",
        "    Purpose:\n",
        "\n",
        "    To allow instances of a class to be invoked like functions by defining custom behavior when the object is called using parentheses ()."
      ],
      "metadata": {
        "id": "VjJ0NK2xWwjn"
      }
    },
    {
      "cell_type": "code",
      "source": [
        "#EXAMPLE\n",
        "class Greeter:\n",
        "    def __init__(self, name):\n",
        "        self.name = name\n",
        "\n",
        "    def __call__(self):\n",
        "        print(f\"Hello, {self.name}!\")\n",
        "\n",
        "g = Greeter(\"Alice\")\n",
        "g()"
      ],
      "metadata": {
        "colab": {
          "base_uri": "https://localhost:8080/"
        },
        "id": "cUvvDeAmWtK6",
        "outputId": "8cff7762-498e-472a-81c1-c86323ec630a"
      },
      "execution_count": 22,
      "outputs": [
        {
          "output_type": "stream",
          "name": "stdout",
          "text": [
            "Hello, Alice!\n"
          ]
        }
      ]
    },
    {
      "cell_type": "markdown",
      "source": [
        "OOPS PRACTICAL QUESTIONS"
      ],
      "metadata": {
        "id": "tdrVlzDXXXhM"
      }
    },
    {
      "cell_type": "markdown",
      "source": [
        "1. Create a parent class Animal with a method speak() that prints a generic message. Create a child class Dog that overrides the speak() method to print \"Bark!\"."
      ],
      "metadata": {
        "id": "q-yjv6UnXfH0"
      }
    },
    {
      "cell_type": "code",
      "source": [
        "class Animal:\n",
        "    def speak(self):\n",
        "        print(\"Animal speaks...\")\n",
        "\n",
        "class Dog(Animal):\n",
        "    def speak(self):\n",
        "        print(\"Bark!\")\n",
        "\n",
        "d = Dog()\n",
        "d.speak()\n"
      ],
      "metadata": {
        "colab": {
          "base_uri": "https://localhost:8080/"
        },
        "id": "ZqkCDh02W_eb",
        "outputId": "fa9ed4ad-8c3e-462f-d724-8cb3b2bccf60"
      },
      "execution_count": 23,
      "outputs": [
        {
          "output_type": "stream",
          "name": "stdout",
          "text": [
            "Bark!\n"
          ]
        }
      ]
    },
    {
      "cell_type": "markdown",
      "source": [
        "2. Write a program to create an abstract class Shape with a method area(). Derive classes Circle and Rectangle from it and implement the area() method in both."
      ],
      "metadata": {
        "id": "SIwBXzu0XlkE"
      }
    },
    {
      "cell_type": "code",
      "source": [
        "from abc import ABC, abstractmethod\n",
        "\n",
        "class Shape(ABC):\n",
        "    @abstractmethod\n",
        "    def area(self):\n",
        "        pass\n",
        "\n",
        "class Circle(Shape):\n",
        "    def __init__(self, radius):\n",
        "        self.radius = radius\n",
        "\n",
        "    def area(self):\n",
        "        return 3.14 * self.radius * self.radius\n",
        "\n",
        "class Rectangle(Shape):\n",
        "    def __init__(self, width, height):\n",
        "        self.width = width\n",
        "        self.height = height\n",
        "\n",
        "    def area(self):\n",
        "        return self.width * self.height\n",
        "\n",
        "c = Circle(5)\n",
        "r = Rectangle(4, 6)\n",
        "print(c.area())\n",
        "print(r.area())"
      ],
      "metadata": {
        "colab": {
          "base_uri": "https://localhost:8080/"
        },
        "id": "VtN80KdTXjav",
        "outputId": "3b76eba6-4260-4eab-e279-b8ee111e6262"
      },
      "execution_count": 24,
      "outputs": [
        {
          "output_type": "stream",
          "name": "stdout",
          "text": [
            "78.5\n",
            "24\n"
          ]
        }
      ]
    },
    {
      "cell_type": "markdown",
      "source": [
        "3. Implement a multi-level inheritance scenario where a class Vehicle has an attribute type. Derive a class Car and further derive a class ElectricCar that adds a battery attribute."
      ],
      "metadata": {
        "id": "tmC9P5tRX2yc"
      }
    },
    {
      "cell_type": "code",
      "source": [
        "class Vehicle:\n",
        "    def __init__(self, type):\n",
        "        self.type = type\n",
        "\n",
        "class Car(Vehicle):\n",
        "    def __init__(self, type, brand):\n",
        "        super().__init__(type)\n",
        "        self.brand = brand\n",
        "\n",
        "class ElectricCar(Car):\n",
        "    def __init__(self, type, brand, battery):\n",
        "        super().__init__(type, brand)\n",
        "        self.battery = battery\n",
        "\n",
        "e_car = ElectricCar(\"EV\", \"Tesla\", \"100 kWh\")\n",
        "print(e_car.type, e_car.brand, e_car.battery)\n"
      ],
      "metadata": {
        "colab": {
          "base_uri": "https://localhost:8080/"
        },
        "id": "8ILDongHX3_N",
        "outputId": "3a18f6c9-9dee-40b7-d7b0-c3fcec5a3653"
      },
      "execution_count": 25,
      "outputs": [
        {
          "output_type": "stream",
          "name": "stdout",
          "text": [
            "EV Tesla 100 kWh\n"
          ]
        }
      ]
    },
    {
      "cell_type": "markdown",
      "source": [
        "4. Demonstrate polymorphism by creating a base class Bird with a method fly(). Create two derived classes Sparrow and Penguin that override the fly() method."
      ],
      "metadata": {
        "id": "ebrTX3T0X_yV"
      }
    },
    {
      "cell_type": "code",
      "source": [
        "class Bird:\n",
        "    def fly(self):\n",
        "        print(\"Bird is flying\")\n",
        "\n",
        "class Sparrow(Bird):\n",
        "    def fly(self):\n",
        "        print(\"Sparrow flies high\")\n",
        "\n",
        "class Penguin(Bird):\n",
        "    def fly(self):\n",
        "        print(\"Penguins can't fly\")\n",
        "\n",
        "for bird in [Sparrow(), Penguin()]:\n",
        "    bird.fly()\n"
      ],
      "metadata": {
        "colab": {
          "base_uri": "https://localhost:8080/"
        },
        "id": "cydxCMvEX6GO",
        "outputId": "b70ea41b-07cf-4725-bdb3-a77e1529a3c0"
      },
      "execution_count": 26,
      "outputs": [
        {
          "output_type": "stream",
          "name": "stdout",
          "text": [
            "Sparrow flies high\n",
            "Penguins can't fly\n"
          ]
        }
      ]
    },
    {
      "cell_type": "markdown",
      "source": [
        "5. Write a program to demonstrate encapsulation by creating a class BankAccount with private attributes balance and methods to deposit, withdraw, and check balance."
      ],
      "metadata": {
        "id": "kTeag9S6YSC0"
      }
    },
    {
      "cell_type": "code",
      "source": [
        "class BankAccount:\n",
        "    def __init__(self):\n",
        "        self.__balance = 0\n",
        "\n",
        "    def deposit(self, amount):\n",
        "        self.__balance += amount\n",
        "\n",
        "    def withdraw(self, amount):\n",
        "        if amount <= self.__balance:\n",
        "            self.__balance -= amount\n",
        "        else:\n",
        "            print(\"Insufficient balance\")\n",
        "\n",
        "    def get_balance(self):\n",
        "        return self.__balance\n",
        "\n",
        "acc = BankAccount()\n",
        "acc.deposit(1000)\n",
        "acc.withdraw(500)\n",
        "print(acc.get_balance())\n"
      ],
      "metadata": {
        "colab": {
          "base_uri": "https://localhost:8080/"
        },
        "id": "tIDpTJFcYPdB",
        "outputId": "340a7a3a-a221-4c1e-e040-2679d4025c97"
      },
      "execution_count": 27,
      "outputs": [
        {
          "output_type": "stream",
          "name": "stdout",
          "text": [
            "500\n"
          ]
        }
      ]
    },
    {
      "cell_type": "markdown",
      "source": [
        "6. Demonstrate runtime polymorphism using a method play() in a base class Instrument. Derive classes Guitar and Piano that implement their own version of play()."
      ],
      "metadata": {
        "id": "RVoslN2fYYtE"
      }
    },
    {
      "cell_type": "code",
      "source": [
        "class Instrument:\n",
        "    def play(self):\n",
        "        print(\"Instrument is playing\")\n",
        "\n",
        "class Guitar(Instrument):\n",
        "    def play(self):\n",
        "        print(\"Guitar is playing\")\n",
        "\n",
        "class Piano(Instrument):\n",
        "    def play(self):\n",
        "        print(\"Piano is playing\")\n",
        "\n",
        "for inst in [Guitar(), Piano()]:\n",
        "    inst.play()\n"
      ],
      "metadata": {
        "colab": {
          "base_uri": "https://localhost:8080/"
        },
        "id": "SKTIxCjOYWR-",
        "outputId": "1a5e2659-5cdb-4dcd-a9ff-b5b8c56e8fe0"
      },
      "execution_count": 28,
      "outputs": [
        {
          "output_type": "stream",
          "name": "stdout",
          "text": [
            "Guitar is playing\n",
            "Piano is playing\n"
          ]
        }
      ]
    },
    {
      "cell_type": "markdown",
      "source": [
        "7. Create a class MathOperations with a class method add_numbers() to add two numbers and a static method subtract_numbers() to subtract two numbers."
      ],
      "metadata": {
        "id": "GfEQsB0ZYgUk"
      }
    },
    {
      "cell_type": "code",
      "source": [
        "class MathOperations:\n",
        "    @classmethod\n",
        "    def add_numbers(cls, a, b):\n",
        "        return a + b\n",
        "\n",
        "    @staticmethod\n",
        "    def subtract_numbers(a, b):\n",
        "        return a - b\n",
        "\n",
        "print(MathOperations.add_numbers(10, 5))\n",
        "print(MathOperations.subtract_numbers(10, 5))"
      ],
      "metadata": {
        "colab": {
          "base_uri": "https://localhost:8080/"
        },
        "id": "y-S16Ye5Yhek",
        "outputId": "7025091c-36e6-4e90-83ee-48f54299e1ec"
      },
      "execution_count": 29,
      "outputs": [
        {
          "output_type": "stream",
          "name": "stdout",
          "text": [
            "15\n",
            "5\n"
          ]
        }
      ]
    },
    {
      "cell_type": "markdown",
      "source": [
        "8. Implement a class Person with a class method to count the total number of persons created."
      ],
      "metadata": {
        "id": "ABT8low3Yk6m"
      }
    },
    {
      "cell_type": "code",
      "source": [
        "class Person:\n",
        "    count = 0\n",
        "\n",
        "    def __init__(self):\n",
        "        Person.count += 1\n",
        "\n",
        "    @classmethod\n",
        "    def total_persons(cls):\n",
        "        return cls.count\n",
        "\n",
        "p1 = Person()\n",
        "p2 = Person()\n",
        "print(Person.total_persons())\n"
      ],
      "metadata": {
        "colab": {
          "base_uri": "https://localhost:8080/"
        },
        "id": "QneWaUWXYjKB",
        "outputId": "dc0f432d-aaad-42a0-e660-db425427521d"
      },
      "execution_count": 30,
      "outputs": [
        {
          "output_type": "stream",
          "name": "stdout",
          "text": [
            "2\n"
          ]
        }
      ]
    },
    {
      "cell_type": "markdown",
      "source": [
        "9. Write a class Fraction with attributes numerator and denominator. Override the str method to display the fraction as \"numerator/denominator\"."
      ],
      "metadata": {
        "id": "jSkEjtNSYqok"
      }
    },
    {
      "cell_type": "code",
      "source": [
        "class Fraction:\n",
        "    def __init__(self, numerator, denominator):\n",
        "        self.numerator = numerator\n",
        "        self.denominator = denominator\n",
        "\n",
        "    def __str__(self):\n",
        "        return f\"{self.numerator}/{self.denominator}\"\n",
        "\n",
        "f = Fraction(3, 4)\n",
        "print(f)\n"
      ],
      "metadata": {
        "colab": {
          "base_uri": "https://localhost:8080/"
        },
        "id": "sMIKYwQ0Yoit",
        "outputId": "e8201742-b2e7-4912-c60f-46d6ccd2e517"
      },
      "execution_count": 31,
      "outputs": [
        {
          "output_type": "stream",
          "name": "stdout",
          "text": [
            "3/4\n"
          ]
        }
      ]
    },
    {
      "cell_type": "markdown",
      "source": [
        "10. Demonstrate operator overloading by creating a class Vector and overriding the add method to add two Vectors.\n"
      ],
      "metadata": {
        "id": "Thqe-C38Yw9k"
      }
    },
    {
      "cell_type": "code",
      "source": [
        "class Vector:\n",
        "    def __init__(self, x, y):\n",
        "        self.x = x\n",
        "        self.y = y\n",
        "\n",
        "    def __add__(self, other):\n",
        "        return Vector(self.x + other.x, self.y + other.y)\n",
        "\n",
        "    def __str__(self):\n",
        "        return f\"({self.x}, {self.y})\"\n",
        "\n",
        "v1 = Vector(1, 2)\n",
        "v2 = Vector(3, 4)\n",
        "print(v1 + v2)\n"
      ],
      "metadata": {
        "colab": {
          "base_uri": "https://localhost:8080/"
        },
        "id": "NUBTzCAuYuEU",
        "outputId": "90a107a7-f704-4a45-c559-04c368772b1b"
      },
      "execution_count": 32,
      "outputs": [
        {
          "output_type": "stream",
          "name": "stdout",
          "text": [
            "(4, 6)\n"
          ]
        }
      ]
    },
    {
      "cell_type": "markdown",
      "source": [
        "11. Create a class Person with attributes name and age. Add a method greet() that prints \"Hello, my name is {name} and I am {age} years old.\""
      ],
      "metadata": {
        "id": "gO0aqxZfZAe0"
      }
    },
    {
      "cell_type": "code",
      "source": [
        "class Person:\n",
        "    def __init__(self, name, age):\n",
        "        self.name = name\n",
        "        self.age = age\n",
        "\n",
        "    def greet(self):\n",
        "        print(f\"Hello, my name is {self.name} and I am {self.age} years old.\")\n",
        "\n",
        "p = Person(\"AMIT\", 33)\n",
        "p.greet()\n"
      ],
      "metadata": {
        "colab": {
          "base_uri": "https://localhost:8080/"
        },
        "id": "mNkDvrsyY9R1",
        "outputId": "b174213c-1f5e-4013-b4a3-1c6e9354952e"
      },
      "execution_count": 35,
      "outputs": [
        {
          "output_type": "stream",
          "name": "stdout",
          "text": [
            "Hello, my name is AMIT and I am 33 years old.\n"
          ]
        }
      ]
    },
    {
      "cell_type": "markdown",
      "source": [
        "12. Implement a class Student with attributes name and grades. Create a method average_grade() to compute the average of the grades."
      ],
      "metadata": {
        "id": "mJBUXL0CZQit"
      }
    },
    {
      "cell_type": "code",
      "source": [
        "class Student:\n",
        "    def __init__(self, name, grades):\n",
        "        self.name = name\n",
        "        self.grades = grades\n",
        "\n",
        "    def average_grade(self):\n",
        "        return sum(self.grades) / len(self.grades)\n",
        "\n",
        "s = Student(\"Bob\", [80, 90, 70])\n",
        "print(s.average_grade())\n"
      ],
      "metadata": {
        "colab": {
          "base_uri": "https://localhost:8080/"
        },
        "id": "9gsSVHNKZDe1",
        "outputId": "d62a1aca-c1d9-4077-d8d0-7c564de63656"
      },
      "execution_count": 36,
      "outputs": [
        {
          "output_type": "stream",
          "name": "stdout",
          "text": [
            "80.0\n"
          ]
        }
      ]
    },
    {
      "cell_type": "markdown",
      "source": [
        "13. Create a class Rectangle with methods set_dimensions() to set the dimensions and area() to calculate the area."
      ],
      "metadata": {
        "id": "yCnPZFtDZVWc"
      }
    },
    {
      "cell_type": "code",
      "source": [
        "class Rectangle:\n",
        "    def set_dimensions(self, width, height):\n",
        "        self.width = width\n",
        "        self.height = height\n",
        "\n",
        "    def area(self):\n",
        "        return self.width * self.height\n",
        "\n",
        "r = Rectangle()\n",
        "r.set_dimensions(5, 3)\n",
        "print(r.area())\n"
      ],
      "metadata": {
        "colab": {
          "base_uri": "https://localhost:8080/"
        },
        "id": "NsOEdCjrZS55",
        "outputId": "ad881f33-6266-432d-ce19-f3bc10f7e0c0"
      },
      "execution_count": 37,
      "outputs": [
        {
          "output_type": "stream",
          "name": "stdout",
          "text": [
            "15\n"
          ]
        }
      ]
    },
    {
      "cell_type": "markdown",
      "source": [
        "14. Create a class Employee with a method calculate_salary() that computes the salary based on hours worked and hourly rate. Create a derived class Manager that adds a bonus to the salary.\n"
      ],
      "metadata": {
        "id": "JzHciSTZZcYt"
      }
    },
    {
      "cell_type": "code",
      "source": [
        "class Employee:\n",
        "    def calculate_salary(self, hours, rate):\n",
        "        return hours * rate\n",
        "\n",
        "class Manager(Employee):\n",
        "    def calculate_salary(self, hours, rate, bonus):\n",
        "        base = super().calculate_salary(hours, rate)\n",
        "        return base + bonus\n",
        "\n",
        "m = Manager()\n",
        "print(m.calculate_salary(40, 50, 1000))\n"
      ],
      "metadata": {
        "colab": {
          "base_uri": "https://localhost:8080/"
        },
        "id": "PuxT_LDKZZVX",
        "outputId": "fa7cd852-ec1f-4a0d-d9eb-03d8d82872ee"
      },
      "execution_count": 38,
      "outputs": [
        {
          "output_type": "stream",
          "name": "stdout",
          "text": [
            "3000\n"
          ]
        }
      ]
    },
    {
      "cell_type": "markdown",
      "source": [
        "15. Create a class Product with attributes name, price, and quantity. Implement a method total_price() that calculates the total price of the product."
      ],
      "metadata": {
        "id": "DGzJPcc1Zh0M"
      }
    },
    {
      "cell_type": "code",
      "source": [
        "class Product:\n",
        "    def __init__(self, name, price, quantity):\n",
        "        self.name = name\n",
        "        self.price = price\n",
        "        self.quantity = quantity\n",
        "\n",
        "    def total_price(self):\n",
        "        return self.price * self.quantity\n",
        "\n",
        "p = Product(\"Pen\", 10, 5)\n",
        "print(p.total_price())\n"
      ],
      "metadata": {
        "colab": {
          "base_uri": "https://localhost:8080/"
        },
        "id": "w-5wN-xDZfOB",
        "outputId": "9e9db280-d4b6-43de-9b23-96580b893945"
      },
      "execution_count": 39,
      "outputs": [
        {
          "output_type": "stream",
          "name": "stdout",
          "text": [
            "50\n"
          ]
        }
      ]
    },
    {
      "cell_type": "markdown",
      "source": [
        "16. Create a class Animal with an abstract method sound(). Create two derived classes Cow and Sheep that implement the sound() method."
      ],
      "metadata": {
        "id": "PXmElCUhZpDs"
      }
    },
    {
      "cell_type": "code",
      "source": [
        "from abc import ABC, abstractmethod\n",
        "\n",
        "class Animal(ABC):\n",
        "    @abstractmethod\n",
        "    def sound(self):\n",
        "        pass\n",
        "\n",
        "class Cow(Animal):\n",
        "    def sound(self):\n",
        "        print(\"Moo\")\n",
        "\n",
        "class Sheep(Animal):\n",
        "    def sound(self):\n",
        "        print(\"Baa\")\n",
        "\n",
        "Cow().sound()\n",
        "Sheep().sound()\n"
      ],
      "metadata": {
        "colab": {
          "base_uri": "https://localhost:8080/"
        },
        "id": "qKdM8Uo4Zkas",
        "outputId": "130478e8-e2ee-4a37-d345-c58dbb219c8b"
      },
      "execution_count": 40,
      "outputs": [
        {
          "output_type": "stream",
          "name": "stdout",
          "text": [
            "Moo\n",
            "Baa\n"
          ]
        }
      ]
    },
    {
      "cell_type": "markdown",
      "source": [
        "17. Create a class Book with attributes title, author, and year_published. Add a method get_book_info() that returns a formatted string with the book's details."
      ],
      "metadata": {
        "id": "Hzda4j8mZvA0"
      }
    },
    {
      "cell_type": "code",
      "source": [
        "class Book:\n",
        "    def __init__(self, title, author, year_published):\n",
        "        self.title = title\n",
        "        self.author = author\n",
        "        self.year_published = year_published\n",
        "\n",
        "    def get_book_info(self):\n",
        "        return f\"{self.title} by {self.author}, published in {self.year_published}\"\n",
        "\n",
        "b = Book(\"1984\", \"George Orwell\", 1949)\n",
        "print(b.get_book_info())\n"
      ],
      "metadata": {
        "colab": {
          "base_uri": "https://localhost:8080/"
        },
        "id": "BijEJe_8ZsQz",
        "outputId": "fa215005-aff8-48df-bdbd-116e9464d4bb"
      },
      "execution_count": 41,
      "outputs": [
        {
          "output_type": "stream",
          "name": "stdout",
          "text": [
            "1984 by George Orwell, published in 1949\n"
          ]
        }
      ]
    },
    {
      "cell_type": "markdown",
      "source": [
        "18. Create a class House with attributes address and price. Create a derived class Mansion that adds an attribute number_of_rooms."
      ],
      "metadata": {
        "id": "YIdMMBFdZ0qk"
      }
    },
    {
      "cell_type": "code",
      "source": [
        "class House:\n",
        "    def __init__(self, address, price):\n",
        "        self.address = address\n",
        "        self.price = price\n",
        "\n",
        "class Mansion(House):\n",
        "    def __init__(self, address, price, number_of_rooms):\n",
        "        super().__init__(address, price)\n",
        "        self.number_of_rooms = number_of_rooms\n",
        "\n",
        "m = Mansion(\"Sector116,Noida\", 7000000, 5)\n",
        "print(m.address, m.price, m.number_of_rooms)\n"
      ],
      "metadata": {
        "colab": {
          "base_uri": "https://localhost:8080/"
        },
        "id": "l8_7iE2uZxnn",
        "outputId": "dabe0796-e47a-4a04-8ec4-1ab461a48ccc"
      },
      "execution_count": 42,
      "outputs": [
        {
          "output_type": "stream",
          "name": "stdout",
          "text": [
            "Sector116,Noida 7000000 5\n"
          ]
        }
      ]
    }
  ]
}